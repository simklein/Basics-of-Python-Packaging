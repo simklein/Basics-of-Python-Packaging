{
 "cells": [
  {
   "cell_type": "markdown",
   "metadata": {},
   "source": [
    "# Development Framework and Project Management\n",
    "*For collaboration on future development of the project, some project development tools might be used to communicate and organize things.*\n",
    "___"
   ]
  },
  {
   "cell_type": "markdown",
   "metadata": {},
   "source": [
    "## 1. Source Hosting\n",
    "- GitLab \n",
    "- GitHub"
   ]
  },
  {
   "cell_type": "markdown",
   "metadata": {},
   "source": [
    "## 2. Documentation\n",
    "See 4. Documentation [here](basicsPythonPackaging.ipynb)"
   ]
  },
  {
   "cell_type": "markdown",
   "metadata": {},
   "source": [
    "## 3. Project Board\n",
    "To organize the workflow\n",
    "\n",
    "### Scrum\n",
    "- agile framework\n",
    "- focuses on time\n",
    "- product is delivered frequent\n",
    "- specific roles in a team\n",
    "\n",
    "### Kanban\n",
    "- how [Trello](https://trello.com/) is used\n",
    "- focuses on continous delivery\n",
    "- product is delivered\n",
    "- flexible team\n",
    "\n",
    "https://taiga.io/"
   ]
  },
  {
   "cell_type": "markdown",
   "metadata": {},
   "source": [
    "## 4. Project Messenger\n",
    "To talk about the work\n",
    "\n",
    "### Slack\n",
    "- doesn't save history\n",
    "- maybe use thread feature"
   ]
  },
  {
   "cell_type": "markdown",
   "metadata": {},
   "source": [
    "## 5. Other Tools\n",
    "\n",
    "### Draw.io\n",
    "- Diagrams esp. UML\n",
    "https://www.draw.io/\n"
   ]
  },
  {
   "cell_type": "code",
   "execution_count": null,
   "metadata": {},
   "outputs": [],
   "source": []
  }
 ],
 "metadata": {
  "kernelspec": {
   "display_name": "Python 3",
   "language": "python",
   "name": "python3"
  },
  "language_info": {
   "codemirror_mode": {
    "name": "ipython",
    "version": 3
   },
   "file_extension": ".py",
   "mimetype": "text/x-python",
   "name": "python",
   "nbconvert_exporter": "python",
   "pygments_lexer": "ipython3",
   "version": "3.7.3"
  }
 },
 "nbformat": 4,
 "nbformat_minor": 2
}
