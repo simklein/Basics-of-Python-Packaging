{
 "cells": [
  {
   "cell_type": "markdown",
   "metadata": {},
   "source": [
    "# Getting started with Python\n",
    "Or 'How to become a snake-charmer'\n",
    "___"
   ]
  },
  {
   "cell_type": "markdown",
   "metadata": {},
   "source": [
    "### 1. Distribution\n",
    "[Anaconda](https://www.anaconda.com/distribution/)\n"
   ]
  },
  {
   "cell_type": "markdown",
   "metadata": {},
   "source": [
    "### 2. IDE\n",
    "- [Spyder](https://www.spyder-ide.org/) \n",
    "    - MatLab-like IDE included in Anaconda distribution\n",
    "- [Pycharm](https://www.jetbrains.com/pycharm/)\n",
    "- [Jupyter Notebook](https://jupyter.org/)\n",
    "    - Web-based environment\n",
    "    - create docs including runable code "
   ]
  },
  {
   "cell_type": "markdown",
   "metadata": {},
   "source": [
    "### 3. Modules/Libraries\n",
    "- [Numpy](http://www.numpy.org/)\n",
    "    - fundametal package for scientific computing\n",
    "    - introduces N-dim array objects\n",
    "- [Matplotlib](https://matplotlib.org/)\n",
    "    - fundametal plotting library  \n",
    "- Scipy\n",
    "    - collection of numerical algorithms and domain-specific toolboxes, including signal processing, optimization, statistics\n",
    "- [Librosa](http://librosa.github.io/librosa/)\n",
    "    - music and audio analysis esp. music information retrieval\n",
    "    - https://www.youtube.com/watch?v=MhOdbtPhbLU"
   ]
  },
  {
   "cell_type": "markdown",
   "metadata": {},
   "source": [
    "### 4. Learn about Python \n",
    "Generally it's a good idea to check out the Talks and Tutorials from the [PyCon](https://www.youtube.com/watch?v=VBM1u-UIoI0&list=PLPbTDk1hBo3xof51R8pk3kP1BVBuMYP9c) and [SciPy](https://www.youtube.com/watch?v=y7zGnKzaKIw&list=PLYx7XA2nY5Gd-tNhm79CNMe_qvi35PgUR) conferences.\n",
    "\n",
    "Here are some to start with:\n",
    "- [Basics](https://www.youtube.com/watch?v=Xmxy2NU9LOI&list=PLYx7XA2nY5Gd-tNhm79CNMe_qvi35PgUR&index=2)\n",
    "- [Numpy](https://www.youtube.com/watch?v=V0D2mhVt7NE&list=PLYx7XA2nY5Gd-tNhm79CNMe_qvi35PgUR&index=14)\n",
    "- [Matplotlib](https://www.youtube.com/watch?v=6gdNUDs6QPc&list=PLYx7XA2nY5Gd-tNhm79CNMe_qvi35PgUR&index=13)\n",
    "- [Python Packaging](https://www.youtube.com/watch?v=qOH-h-EKKac&t=332s)\n",
    "    "
   ]
  },
  {
   "cell_type": "code",
   "execution_count": null,
   "metadata": {},
   "outputs": [],
   "source": []
  }
 ],
 "metadata": {
  "kernelspec": {
   "display_name": "Python 3",
   "language": "python",
   "name": "python3"
  },
  "language_info": {
   "codemirror_mode": {
    "name": "ipython",
    "version": 3
   },
   "file_extension": ".py",
   "mimetype": "text/x-python",
   "name": "python",
   "nbconvert_exporter": "python",
   "pygments_lexer": "ipython3",
   "version": "3.7.3"
  }
 },
 "nbformat": 4,
 "nbformat_minor": 2
}
