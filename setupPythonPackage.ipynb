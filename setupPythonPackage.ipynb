{
 "cells": [
  {
   "cell_type": "markdown",
   "metadata": {},
   "source": [
    "# Setup of Python Package\n",
    "___"
   ]
  },
  {
   "cell_type": "markdown",
   "metadata": {},
   "source": [
    "## 1. Testing "
   ]
  },
  {
   "cell_type": "markdown",
   "metadata": {},
   "source": [
    "### Pytest\n",
    "* command line interface (CLI) to test your code locally\n",
    "* put source code of your tests into the test folder of the repo with the naming convention *test_name.py*\n",
    "* run `$ pytest` in a virtual environment from the terminal\n",
    "\n",
    "For more information check out the [docs](https://docs.pytest.org/en/latest/)"
   ]
  },
  {
   "cell_type": "markdown",
   "metadata": {},
   "source": [
    "### Tox\n",
    "\n",
    "* configure Tox by editing the *tox.ini* configuration file or run `$ tox-quickstart`. The Tox configuration file contains\n",
    "    * the command to run in order to execute tests i.e. pytest\n",
    "    * additional packages required before executing\n",
    "    * the Python versions to test against\n",
    "* run the tests by \n",
    "    * `$ tox`\n",
    "    * `$ tox -e py36` to run only a single evironment, like Python 3.6 in this case \n",
    "    \n",
    "Here are the [docs](https://tox.readthedocs.io/en/latest/index.html)"
   ]
  },
  {
   "cell_type": "markdown",
   "metadata": {},
   "source": [
    "##### Example for tox.ini\n",
    "\n",
    "```ini\n",
    "[tox]\n",
    "envlist = py27, py36\n",
    "\n",
    "[testenv]\n",
    "deps = \n",
    "\n",
    "commands =\n",
    "    python -m unittest discover\n",
    "```"
   ]
  },
  {
   "cell_type": "markdown",
   "metadata": {},
   "source": [
    "### CI\n",
    "This focuses only on the setup for **GitLab CI**\n",
    "* automating the execution of the tests\n",
    "* To configure the CI add a *.gitlab-ci.yml* file to the root of the repo\n",
    "    * there are templates available on GitLab\n",
    "* Configure a runner\n",
    "\n",
    "Here is the [Getting started guide](https://git.rwth-aachen.de/help/ci/quick_start/README)"
   ]
  },
  {
   "cell_type": "markdown",
   "metadata": {},
   "source": [
    "##### Example for .gitlab-ci.yml\n",
    "\n",
    "```yml\n",
    "stages:\n",
    "    - build\n",
    "    - test\n",
    "        \n",
    "before_script:\n",
    "    - apt-get update\n",
    "    - pip3 install -r requirements_dev.txt\n",
    "\n",
    "build:\n",
    "    stage: build\n",
    "    script:\n",
    "    - python3 setup.py build_ext --inplace\n",
    "\n",
    "test:\n",
    "    stage: test\n",
    "    script:\n",
    "    - python3 setup.py build_ext --inplace\n",
    "    - tox\n",
    "    dependencies:\n",
    "    - build\n",
    "```\n"
   ]
  },
  {
   "cell_type": "code",
   "execution_count": null,
   "metadata": {},
   "outputs": [],
   "source": []
  }
 ],
 "metadata": {
  "kernelspec": {
   "display_name": "Python 3",
   "language": "python",
   "name": "python3"
  },
  "language_info": {
   "codemirror_mode": {
    "name": "ipython",
    "version": 3
   },
   "file_extension": ".py",
   "mimetype": "text/x-python",
   "name": "python",
   "nbconvert_exporter": "python",
   "pygments_lexer": "ipython3",
   "version": "3.7.3"
  }
 },
 "nbformat": 4,
 "nbformat_minor": 2
}
