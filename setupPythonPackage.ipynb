{
 "cells": [
  {
   "cell_type": "markdown",
   "metadata": {},
   "source": [
    "# Setup of Python Package\n",
    "*This notebook serves as setup guide for various tools for managing and monitoring a Python Package.*\n",
    "___"
   ]
  },
  {
   "cell_type": "markdown",
   "metadata": {},
   "source": [
    "## 1. Testing "
   ]
  },
  {
   "cell_type": "markdown",
   "metadata": {},
   "source": [
    "### Style Guide Enforcement\n",
    "* [Flake8](https://pypi.org/project/flake8/) combines syntax check with pyflakes and style checks against PEP8\n",
    "* Use `$ pip install flake8` to install\n",
    "* Run `$ flake8 mycode.py` in the directory of your code 'mycode.py'\n",
    "* There is also a vim-plugin for quick fixes\n",
    "\n",
    "For more information check out the [docs](http://flake8.pycqa.org/en/latest/)"
   ]
  },
  {
   "cell_type": "markdown",
   "metadata": {},
   "source": [
    "### Pytest\n",
    "* command line interface (CLI) to test your code locally\n",
    "* put source code of your tests into the test folder of the repo with the naming convention *test_name.py*\n",
    "* run `$ pytest` in a virtual environment from the terminal\n",
    "\n",
    "Here are the [docs](https://docs.pytest.org/en/latest/)"
   ]
  },
  {
   "cell_type": "markdown",
   "metadata": {},
   "source": [
    "### Tox\n",
    "\n",
    "* configure Tox by editing the *tox.ini* configuration file or run `$ tox-quickstart`. The Tox configuration file contains\n",
    "    * the command to run in order to execute tests i.e. pytest\n",
    "    * additional packages required before executing\n",
    "    * the Python versions to test against\n",
    "* run the tests by \n",
    "    * `$ tox`\n",
    "    * `$ tox -e py36` to run only a single evironment, like Python 3.6 in this case \n",
    "    \n",
    "Here are the [docs](https://tox.readthedocs.io/en/latest/index.html)"
   ]
  },
  {
   "cell_type": "markdown",
   "metadata": {},
   "source": [
    "##### Example for tox.ini\n",
    "\n",
    "```ini\n",
    "[tox]\n",
    "envlist = py27, py36\n",
    "\n",
    "[testenv]\n",
    "deps = \n",
    "\n",
    "commands =\n",
    "    python -m unittest discover\n",
    "```"
   ]
  },
  {
   "cell_type": "markdown",
   "metadata": {},
   "source": [
    "### CI\n",
    "This focuses only on the setup for **GitLab CI**\n",
    "* automating the execution of the tests\n",
    "* To configure the CI add a *.gitlab-ci.yml* file to the root of the repo\n",
    "    * there are templates available on GitLab\n",
    "* Configure a runner\n",
    "\n",
    "Here is the [Getting started guide](https://git.rwth-aachen.de/help/ci/quick_start/README)"
   ]
  },
  {
   "cell_type": "markdown",
   "metadata": {},
   "source": [
    "##### Example for .gitlab-ci.yml\n",
    "\n",
    "```yaml\n",
    "stages:\n",
    "    - build\n",
    "    - test\n",
    "        \n",
    "before_script:\n",
    "    - apt-get update\n",
    "    - pip3 install -r requirements_dev.txt\n",
    "\n",
    "build:\n",
    "    stage: build\n",
    "    script:\n",
    "    - python3 setup.py build_ext --inplace\n",
    "\n",
    "test:\n",
    "    stage: test\n",
    "    script:\n",
    "    - python3 setup.py build_ext --inplace\n",
    "    - tox\n",
    "    dependencies:\n",
    "    - build\n",
    "```\n"
   ]
  },
  {
   "cell_type": "markdown",
   "metadata": {},
   "source": [
    "### Coverage\n",
    "- Install coverage `$ pip install coverage`\n",
    "- Run your program with `$ coverage run mycode.py`\n",
    "- Use `$ coverage report -m` to show results\n",
    "\n",
    "\n",
    "- Coveralls is a tool to automize and publish your coverage stats online/in your repo\n",
    "\n",
    "[Coverage docs](https://coverage.readthedocs.io/en/v4.5.x/)\n",
    "| [Coveralls docs](https://docs.coveralls.io/)"
   ]
  },
  {
   "cell_type": "markdown",
   "metadata": {},
   "source": [
    "### Mock Objects\n",
    "- mock objects substitute and imitate real objects within the testing environment\n",
    "- versatile tool for improving the quality of tests\n",
    "- with mock objects you can control the code's behavior during tests\n",
    "- `unitest.mock` is included in the standard library in Python 3.3 and up\n",
    "\n",
    "[Mock docs](https://docs.python.org/3/library/unittest.mock.html#module-unittest.mock)\n",
    "| [PyCon Talk](https://www.youtube.com/watch?v=ww1UsGZV8fQ)"
   ]
  },
  {
   "cell_type": "markdown",
   "metadata": {},
   "source": [
    "*In this example we mock the function db_write with a function decorator to test the function foo. '__main__' should be replaced with 'my_module' when the common directory structure is used.*"
   ]
  },
  {
   "cell_type": "code",
   "execution_count": 1,
   "metadata": {},
   "outputs": [],
   "source": [
    "\"\"\"my_module.py\"\"\"\n",
    "def foo():\n",
    "    x = db_write()\n",
    "    return x\n",
    "\n",
    "def db_write():\n",
    "    ..."
   ]
  },
  {
   "cell_type": "code",
   "execution_count": 8,
   "metadata": {},
   "outputs": [],
   "source": [
    "\"\"\"test.py\"\"\"\n",
    "#import my_module\n",
    "from unittest.mock import patch\n",
    "\n",
    "@patch('__main__.db_write') #__main__ -> my_module\n",
    "def test_foo(self, mock_wirte):\n",
    "    ..."
   ]
  },
  {
   "cell_type": "markdown",
   "metadata": {},
   "source": [
    "## 2. Documentation"
   ]
  },
  {
   "cell_type": "markdown",
   "metadata": {},
   "source": [
    "### Sphinx\n",
    "* Install sphinx `$ pip install Sphinx`\n",
    "* Run `$ sphinx-quickstart` to setup directory for documentation and create a default conf.py file\n",
    "    * The cofiguration file has to be changed for any further extensions or templates \n",
    "* Run `$ sphinx-apidoc -o <output dir of .rst> <dir of source code>` to generate .rst files from your source code\n",
    "* To create documentaion run `$ make html` Note that your working dir has to be ./docs\n",
    "\n",
    "Here are the [docs](https://www.sphinx-doc.org/en/1.5/tutorial.html)"
   ]
  }
 ],
 "metadata": {
  "kernelspec": {
   "display_name": "Python 3",
   "language": "python",
   "name": "python3"
  },
  "language_info": {
   "codemirror_mode": {
    "name": "ipython",
    "version": 3
   },
   "file_extension": ".py",
   "mimetype": "text/x-python",
   "name": "python",
   "nbconvert_exporter": "python",
   "pygments_lexer": "ipython3",
   "version": "3.7.3"
  }
 },
 "nbformat": 4,
 "nbformat_minor": 2
}
