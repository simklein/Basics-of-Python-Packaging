{
 "cells": [
  {
   "cell_type": "markdown",
   "metadata": {},
   "source": [
    "# Basics of Python\n",
    "These notebooks are meant to be a summary of knowledge for the development of the [ITA Toolbox](https://git.rwth-aachen.de/mbe/haiopy) in Python.\n",
    "Feel free to add any information.\n",
    "The sources of the notebooks, as well as installation and usage instructions can be found on [GitHub](https://github.com/simklein/basics-of-python).\n",
    "___"
   ]
  },
  {
   "cell_type": "markdown",
   "metadata": {},
   "source": [
    "## Index"
   ]
  },
  {
   "cell_type": "markdown",
   "metadata": {},
   "source": [
    "1. [Getting started with Python](setupPython.ipynb)\n",
    "2. [Basics of Python Packaging](basicsPythonPackaging.ipynb)\n",
    "3. [Development Framework and Project Management](frameDevelopment.ipynb)"
   ]
  },
  {
   "cell_type": "code",
   "execution_count": null,
   "metadata": {},
   "outputs": [],
   "source": []
  }
 ],
 "metadata": {
  "kernelspec": {
   "display_name": "Python 3",
   "language": "python",
   "name": "python3"
  },
  "language_info": {
   "codemirror_mode": {
    "name": "ipython",
    "version": 3
   },
   "file_extension": ".py",
   "mimetype": "text/x-python",
   "name": "python",
   "nbconvert_exporter": "python",
   "pygments_lexer": "ipython3",
   "version": "3.7.3"
  }
 },
 "nbformat": 4,
 "nbformat_minor": 2
}
