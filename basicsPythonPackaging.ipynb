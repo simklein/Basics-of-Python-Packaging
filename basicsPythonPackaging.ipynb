{
 "cells": [
  {
   "cell_type": "markdown",
   "metadata": {},
   "source": [
    "# Basics of Python Packaging\n",
    "____"
   ]
  },
  {
   "cell_type": "markdown",
   "metadata": {},
   "source": [
    "## 1. Code\n",
    "### Conventions\n",
    "- PEP 20 - The Zen of Python https://www.python.org/dev/peps/pep-0020/\n",
    "- PEP 8 - Style Guide for Python https://pep8.org/\n",
    "    - cheatsheet https://gist.github.com/RichardBronosky/454964087739a449da04\n",
    "- PEP 257 - Docstring Conventions https://www.python.org/dev/peps/pep-0257/\n",
    "    - numpydoc -> usable by Sphinx https://numpydoc.readthedocs.io/en/latest/format.html#docstring-standard"
   ]
  },
  {
   "cell_type": "markdown",
   "metadata": {},
   "source": [
    "## 2. Packaging\n",
    "- Python Packging User Guide https://packaging.python.org/\n",
    "- sample package including good documentation https://github.com/pypa/sampleproject\n",
    "\n",
    "### Cookiecutter\n",
    "- Tool to create project templates, e.g. a Python package project\n",
    "- Sets base for integration of various tools such as  \n",
    "    - Testing setup with unittest and python setup.py test or py.test\n",
    "    - Travis-CI: Ready for Travis Continuous Integration testing\n",
    "    - Tox testing: Setup to easily test for Python 2.7, 3.4, 3.5, 3.6\n",
    "    - Sphinx docs: Documentation ready for generation with, for example, ReadTheDocs\n",
    "    - Bumpversion: Pre-configured version bumping with a single command\n",
    "    \n",
    "https://github.com/audreyr/cookiecutter\n",
    "\n",
    "### Docker \n",
    "- Open source software development platform based on containers \n",
    "- Helps to deploy code with all dependencies\n",
    "- Helps with a reproducible build environment that can also run on your workstation\n",
    "\n",
    "https://www.docker.com/\n",
    "\n",
    "### Kubernetes (K8s)\n",
    "- Open source container orchestration platform/container scheduler \n",
    "- designed to automate the management of application containers, from deploying and scaling to operating\n",
    "\n",
    "https://kubernetes.io/de/docs/concepts/overview/what-is-kubernetes/"
   ]
  },
  {
   "cell_type": "markdown",
   "metadata": {},
   "source": [
    "## 3. Release Package\n",
    "#### Source Distribution (sdist)\n",
    "- distribution format for pure python packages\n",
    "\n",
    "#### Wheel\n",
    "- universal built distribution format\n",
    "- recommended format for distributing packages\n",
    "\n",
    "### Python Package Index (PyPI) \n",
    "https://pypi.org/\n",
    "- Install packages using \n",
    "<code>pip install \"SomeProject\"\n",
    "</code>\n",
    "\n",
    "\n",
    "- Publish packages using <code>twine</code>\n",
    "https://pypi.org/project/twine/\n",
    "\n",
    "- trove classifiers give index and pip some additional metadata about the package e.g. development status, programming language, environment, OS and topic  https://pypi.org/classifiers/\n",
    "\n",
    "\n",
    "### TestPyPI\n",
    "Seperate instance of PyPI for testing purposes\n",
    "\n",
    "https://test.pypi.org/\n",
    "\n",
    "---\n",
    "<span style=\"color:orange\">NOTE</span>\n",
    "\n",
    "Seperate user accounts for PyPI and TestPyPI necessary\n",
    "\n",
    "---\n",
    "\n",
    "### Anaconda Cloud\n",
    "- Seperate and independent package source\n",
    "- Uses conda instead of pip to install packages\n"
   ]
  },
  {
   "cell_type": "markdown",
   "metadata": {},
   "source": [
    "## 4. Documentation\n",
    "### Sphinx + ReadTheDocs\n",
    "Sphinx automatically generates beautiful documentation from source code that can be hosted on ReadTheDocs\n",
    "http://www.sphinx-doc.org/\n",
    "\n",
    "---\n",
    "<span style=\"color:orange\">NOTE</span>\n",
    "\n",
    "ReadTheDocs account necessary\n",
    "\n",
    "---"
   ]
  },
  {
   "cell_type": "markdown",
   "metadata": {},
   "source": [
    "## 5. Source Hosting\n",
    "For future development contribution\n",
    "- GitLab \n",
    "- GitHub"
   ]
  },
  {
   "cell_type": "markdown",
   "metadata": {},
   "source": [
    "## 6. Tests\n",
    "### Tox\n",
    "- checks if your package installs correctly with different Python versions and interpreters\n",
    "- helps running your tests in each of the environments, configuring your test tool of choice\n",
    "\n",
    "https://tox.readthedocs.io/en/latest/"
   ]
  },
  {
   "cell_type": "markdown",
   "metadata": {},
   "source": [
    "## 7. Continuous Integration\n",
    "### Travis CI\n",
    "- only for GitHub    \n",
    "\n",
    "### Gitlab CI\n",
    "- Integrated in GitLab\n",
    "- Open source\n",
    "- Optional integration of Docker and Kubernetes\n",
    "\n",
    "https://docs.gitlab.com/ee/ci/README.html\n",
    "\n",
    "### Jenkins\n",
    "- Open source\n",
    "- plugin architecture\n",
    "- more complex"
   ]
  },
  {
   "cell_type": "markdown",
   "metadata": {},
   "source": [
    "## 8. License\n",
    "Common open source license\n",
    "- MIT\n",
    "- BSD\n",
    "- ISB\n",
    "- Apache\n",
    "- GPL version 3\n",
    "\n",
    "A very nice interactive overview with pros and cons of the comming licences can be found here: https://choosealicense.com/\n",
    "\n",
    "---\n",
    "<span style=\"color:orange\">NOTE</span>\n",
    "\n",
    "- Institute for Automation of Complex Power Systems, EONERC uses GPL version 3\n",
    "- VA uses the Apache Version\n",
    "- Most packages from spatialaudio.net (Sasha Spors' Group) use MIT\n",
    "\n",
    "---"
   ]
  },
  {
   "cell_type": "markdown",
   "metadata": {},
   "source": [
    "## 9. Versioning\n",
    "\n",
    "Semantic version format example:\n",
    "\n",
    "    v.1.3.8\n",
    "    Major.Minor.Patch\n",
    "\n",
    "PEP 440 - Version Identification https://www.python.org/dev/peps/pep-0440/\n",
    "### Tools for automation\n",
    "- Bumpversion\n",
    "- Versioneer"
   ]
  },
  {
   "cell_type": "markdown",
   "metadata": {},
   "source": [
    "   "
   ]
  }
 ],
 "metadata": {
  "kernelspec": {
   "display_name": "Python 3",
   "language": "python",
   "name": "python3"
  },
  "language_info": {
   "codemirror_mode": {
    "name": "ipython",
    "version": 3
   },
   "file_extension": ".py",
   "mimetype": "text/x-python",
   "name": "python",
   "nbconvert_exporter": "python",
   "pygments_lexer": "ipython3",
   "version": "3.7.3"
  }
 },
 "nbformat": 4,
 "nbformat_minor": 2
}
