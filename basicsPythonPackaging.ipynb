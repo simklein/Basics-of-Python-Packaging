{
 "cells": [
  {
   "cell_type": "markdown",
   "metadata": {},
   "source": [
    "# Basics of Python Packaging\n",
    "*This notebook is meant to give an overview about all the things that have to be considered when creating a Python Package. Some useful tools and common practices are included. For a setup guide of the different tools go to the notebook [Setup of Python Package](setupPythonPackage.ipynb)*\n",
    "____"
   ]
  },
  {
   "cell_type": "markdown",
   "metadata": {},
   "source": [
    "## 1. Code\n",
    "### Conventions\n",
    "Python Enhancement Protocols (PEP) are conventions and best practices when it comes to writing code in Python. There is a PEP for nearly any situation. Follow them and you will write beautiful code. Here, some important ones are listed: \n",
    "\n",
    "- [PEP 20](https://www.python.org/dev/peps/pep-0020/) - The Zen of Python \n",
    "- [PEP 8](https://pep8.org/) - Style Guide for Python \n",
    "    - a [gist cheatsheet](https://gist.github.com/RichardBronosky/454964087739a449da04)\n",
    "- [PEP 257](https://www.python.org/dev/peps/pep-0257/) - Docstring Conventions \n",
    "    - [numpydoc](https://numpydoc.readthedocs.io/en/latest/format.html#docstring-standard) -> usable by Sphinx "
   ]
  },
  {
   "cell_type": "markdown",
   "metadata": {},
   "source": [
    "___\n",
    "## 2. Packaging\n",
    "- [Python Packging User Guide](https://packaging.python.org/)\n",
    "    - Here is a [sample package](https://github.com/pypa/sampleproject) including good documentation \n",
    "\n",
    "\n",
    "### Cookiecutter \n",
    "- Tool to create project templates, e.g. a Python package project\n",
    "- Sets base for integration of various tools such as  \n",
    "    - Testing setup with unittest and python setup.py test or py.test\n",
    "    - Travis-CI: Ready for Travis Continuous Integration testing\n",
    "    - Tox testing: Setup to easily test for Python 2.7, 3.4, 3.5, 3.6\n",
    "    - Sphinx docs: Documentation ready for generation with, for example, ReadTheDocs\n",
    "    - Bumpversion: Pre-configured version bumping with a single command\n",
    "\n",
    "https://github.com/audreyr/cookiecutter\n",
    "\n",
    "### Docker \n",
    "- Open source software development platform based on containers \n",
    "- Helps to deploy code with all dependencies\n",
    "- Helps with a reproducible build environment that can also run on your workstation\n",
    "\n",
    "https://www.docker.com/\n",
    "\n",
    "### Kubernetes (K8s)\n",
    "- Open source container orchestration platform/container scheduler \n",
    "- designed to automate the management of application containers, from deploying and scaling to operating\n",
    "\n",
    "https://kubernetes.io/de/docs/concepts/overview/what-is-kubernetes/"
   ]
  },
  {
   "cell_type": "markdown",
   "metadata": {},
   "source": [
    "#### ___\n",
    "## 3. Release Package\n",
    "### Definitions\n",
    "* **Source Distribution (sdist):** \n",
    "    - Distribution format for pure python packages\n",
    "* **Wheel**\n",
    "    - universal built distribution format\n",
    "    - recommended format for distributing packages\n",
    "\n",
    "### Python Package Index (PyPI) \n",
    "https://pypi.org/\n",
    "- Install packages using \n",
    "<code>$ pip install\n",
    "</code>\n",
    "\n",
    "\n",
    "- Publish packages using <code>twine</code>\n",
    "https://pypi.org/project/twine/\n",
    "\n",
    "- trove classifiers give index and pip some additional metadata about the package e.g. development status, programming language, environment, OS and topic  https://pypi.org/classifiers/\n",
    "\n",
    "\n",
    "### TestPyPI\n",
    "Seperate instance of PyPI for testing purposes\n",
    "\n",
    "https://test.pypi.org/\n",
    "\n",
    "\n",
    ">**NOTE**\n",
    ">\n",
    ">Seperate user accounts for PyPI and TestPyPI necessary\n",
    "\n",
    "\n",
    "### Anaconda Cloud\n",
    "- Seperate and independent package source\n",
    "- Uses conda instead of pip to install packages\n"
   ]
  },
  {
   "cell_type": "markdown",
   "metadata": {},
   "source": [
    "___\n",
    "## 4. Documentation\n",
    "### Sphinx + ReadTheDocs\n",
    "[Sphinx](http://www.sphinx-doc.org/) automatically generates beautiful documentation from source code that can be hosted on ReadTheDocs\n",
    "\n",
    "\n",
    ">**NOTE**\n",
    ">\n",
    ">ReadTheDocs account necessary\n"
   ]
  },
  {
   "cell_type": "markdown",
   "metadata": {},
   "source": [
    "___\n",
    "## 5. Source Hosting\n",
    "For future development contribution\n",
    "- GitLab \n",
    "- GitHub"
   ]
  },
  {
   "cell_type": "markdown",
   "metadata": {},
   "source": [
    "___\n",
    "## 6. Tests\n",
    "### Tox\n",
    "- checks if your package installs correctly with different Python versions and interpreters\n",
    "- helps running your tests in each of the environments, configuring your test tool of choice\n",
    "\n",
    "https://tox.readthedocs.io/en/latest/\n",
    "\n",
    "### Pytest\n",
    "\n",
    "### Coverage\n",
    "- monitors the effectiveness of tests\n",
    "- shows which parts of your code are being exercised by tests, and which are not\n",
    "\n",
    "https://coverage.readthedocs.io/en/v4.5.x/"
   ]
  },
  {
   "cell_type": "markdown",
   "metadata": {},
   "source": [
    "___\n",
    "## 7. Continuous Integration\n",
    " \n",
    "\n",
    "### Gitlab CI\n",
    "Since haiopy is hosted on GitLab this is the CI used for the project.\n",
    "- Integrated in GitLab\n",
    "- Open source\n",
    "- Optional integration of Docker and Kubernetes\n",
    "\n",
    "https://docs.gitlab.com/ee/ci/README.html\n",
    "\n",
    "### Alternatives\n",
    "#### Travis CI\n",
    "- only for GitHub\n",
    "\n",
    "#### Jenkins\n",
    "- Open source\n",
    "- plugin architecture\n",
    "- more complex"
   ]
  },
  {
   "cell_type": "markdown",
   "metadata": {},
   "source": [
    "___\n",
    "## 8. License\n",
    "Common open source license\n",
    "- MIT\n",
    "- BSD\n",
    "- ISB\n",
    "- Apache\n",
    "- GPL version 3\n",
    "\n",
    "A very nice interactive overview with pros and cons of the comming licences can be found here: https://choosealicense.com/\n",
    "\n",
    ">**NOTE**\n",
    ">- Institute for Automation of Complex Power Systems, EONERC uses GPL version 3\n",
    ">- VA uses the Apache Version\n",
    ">- Most packages from spatialaudio.net (Sasha Spors' Group) use MIT\n"
   ]
  },
  {
   "cell_type": "markdown",
   "metadata": {},
   "source": [
    "___\n",
    "## 9. Versioning\n",
    "\n",
    "Semantic version format example:\n",
    "\n",
    "    v.1.3.8\n",
    "    Major.Minor.Patch\n",
    "\n",
    "[PEP 440](https://www.python.org/dev/peps/pep-0440/) - Version Identification \n",
    "### Tools for automation\n",
    "- Bumpversion\n",
    "- Versioneer"
   ]
  },
  {
   "cell_type": "markdown",
   "metadata": {},
   "source": [
    "   "
   ]
  }
 ],
 "metadata": {
  "kernelspec": {
   "display_name": "Python 3",
   "language": "python",
   "name": "python3"
  },
  "language_info": {
   "codemirror_mode": {
    "name": "ipython",
    "version": 3
   },
   "file_extension": ".py",
   "mimetype": "text/x-python",
   "name": "python",
   "nbconvert_exporter": "python",
   "pygments_lexer": "ipython3",
   "version": "3.7.3"
  }
 },
 "nbformat": 4,
 "nbformat_minor": 2
}
