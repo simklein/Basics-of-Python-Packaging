{
 "cells": [
  {
   "cell_type": "markdown",
   "metadata": {},
   "source": [
    "# GUIs with Qt in Python\n",
    "___"
   ]
  },
  {
   "cell_type": "markdown",
   "metadata": {},
   "source": [
    "[PyQt5](https://www.riverbankcomputing.com/static/Docs/PyQt5/) is a set of python bindings for the Qt cross-platform application and UI framework. An alternative is [PySide2](https://doc.qt.io/qtforpython/). \n",
    "A lot of examples for different applications with PyQt are contained in this [repo](https://github.com/pyqt/examples).\n",
    "\n",
    "Install it using `$ pip install PyQt5`\n",
    "\n",
    "## Qt Designer\n",
    "Instead of writing the source code of your GUI you could also use the graphical [Qt designer](https://doc.qt.io/qt-5/qtdesigner-manual.html) tool.\n",
    "\n",
    "The Anaconda distribution already comes with the Qt designer so you don't have to install anything. You can find the application at the following path `...\\anaconda3\\Library\\bin\\designer.exe`"
   ]
  }
 ],
 "metadata": {
  "kernelspec": {
   "display_name": "Python 3",
   "language": "python",
   "name": "python3"
  }
 },
 "nbformat": 4,
 "nbformat_minor": 2
}
