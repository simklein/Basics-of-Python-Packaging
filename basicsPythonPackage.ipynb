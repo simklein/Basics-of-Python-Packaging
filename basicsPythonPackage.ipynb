{
 "cells": [
  {
   "cell_type": "markdown",
   "metadata": {},
   "source": [
    "# Python Packaging\n",
    "*This notebook is meant to give an overview about all the things that have to be considered when creating a Python Package. Some useful tools and common practices are included. A small setup guide for the various tools for managing and monitoring the Python Package is included. For more detailed information check out the documentation of the specific tool.*\n",
    "____"
   ]
  },
  {
   "cell_type": "markdown",
   "metadata": {},
   "source": [
    "## 1. Code\n",
    "### Conventions\n",
    "Python Enhancement Protocols (PEP) are conventions and best practices when it comes to writing code in Python. There is a PEP for nearly any situation. Follow them and you will write beautiful code. Here, some important ones are listed: \n",
    "\n",
    "- [PEP 20](https://www.python.org/dev/peps/pep-0020/) - The Zen of Python \n",
    "- [PEP 8](https://pep8.org/) - Style Guide for Python \n",
    "    - a [gist cheatsheet](https://gist.github.com/RichardBronosky/454964087739a449da04)\n",
    "- [PEP 257](https://www.python.org/dev/peps/pep-0257/) - Docstring Conventions \n",
    "    - We are currently using [numpydoc](https://numpydoc.readthedocs.io/en/latest/format.html#docstring-standard) as convention for the documentation of haiopy\n",
    "    - numpydoc is interpreted by Sphinx for the generation of docs\n",
    "\n",
    "### Style Guide Enforcement\n",
    "* [Flake8](https://pypi.org/project/flake8/) combines syntax check with pyflakes and style checks against PEP8\n",
    "* Use `$ pip install flake8` to install\n",
    "* Run `$ flake8 mycode.py` in the directory of your code 'mycode.py'\n",
    "* There is also a vim-plugin for quick fixes\n",
    "\n",
    "For more information check out the [docs](http://flake8.pycqa.org/en/latest/)"
   ]
  },
  {
   "cell_type": "markdown",
   "metadata": {},
   "source": [
    "___\n",
    "## 2. Packaging\n",
    "Python Packages are the prefered way to get your code to an audience. The [Python Packaging User Guide](https://packaging.python.org/) gives an overview about Packaging, several guides and tutorials.\n",
    "- Here is a [sample package](https://github.com/pypa/sampleproject) including good documentation \n",
    "\n",
    "\n",
    "### Cookiecutter \n",
    "- Tool to create project templates, e.g. a Python package project\n",
    "- Sets base for integration of various tools such as  \n",
    "    - Testing setup with unittest and python setup.py test or py.test\n",
    "    - Travis-CI: Ready for Travis Continuous Integration testing\n",
    "    - Tox testing: Setup to easily test for Python 2.7, 3.4, 3.5, 3.6\n",
    "    - Sphinx docs: Documentation ready for generation with, for example, ReadTheDocs\n",
    "    - Bumpversion: Pre-configured version bumping with a single command\n",
    "\n",
    "Check out the cookiecutter [GitHub repo](https://github.com/audreyr/cookiecutter) for further information and setup guides\n",
    "\n",
    "\n",
    "### Docker \n",
    "- [Docker](https://www.docker.com/) is an open source software development platform based on containers \n",
    "- Helps to deploy code with all dependencies\n",
    "- Helps with a reproducible build environment that can also run on your workstation\n",
    "\n",
    "\n",
    "### Kubernetes (K8s)\n",
    "- [Kubernetes](https://kubernetes.io/de/docs/concepts/overview/what-is-kubernetes/) is an open source container orchestration platform/container scheduler \n",
    "- designed to automate the management of application containers, from deploying and scaling to operating\n",
    "- not needed for the basic package setup"
   ]
  },
  {
   "cell_type": "markdown",
   "metadata": {},
   "source": [
    "___\n",
    "## 3. Release Package\n",
    "### Definitions\n",
    "* **Source Distribution (sdist):** \n",
    "    - Distribution format for pure python packages\n",
    "* **Wheel**\n",
    "    - universal built distribution format\n",
    "    - recommended format for distributing packages\n",
    "\n",
    "### Python Package Index (PyPI) \n",
    "[PyPI](https://pypi.org/) is a repository of packages for Python\n",
    "- Install packages using \n",
    "<code>$ pip install</code>\n",
    "\n",
    "- Publish packages using [twine](https://pypi.org/project/twine/)\n",
    "\n",
    "- [trove classifiers](https://pypi.org/classifiers/) give index and pip some additional metadata about the package e.g. development status, programming language, environment, OS and topic  \n",
    "\n",
    "\n",
    "### TestPyPI\n",
    "[TestPyPI](https://test.pypi.org/) is a seperate instance of PyPI for testing purposes\n",
    "\n",
    "\n",
    ">**NOTE**\n",
    ">\n",
    ">Seperate user accounts for PyPI and TestPyPI necessary\n",
    "\n",
    "\n",
    "### Anaconda Cloud\n",
    "- Seperate and independent package source\n",
    "- Uses conda instead of pip to install packages\n"
   ]
  },
  {
   "cell_type": "markdown",
   "metadata": {},
   "source": [
    "___\n",
    "## 4. Documentation\n",
    "### Sphinx + ReadTheDocs\n",
    "[Sphinx](http://www.sphinx-doc.org/) automatically generates beautiful documentation from source code that can be hosted on [ReadTheDocs](https://docs.readthedocs.io/en/stable/intro/getting-started-with-sphinx.html)\n",
    "\n",
    "\n",
    ">**NOTE**\n",
    ">\n",
    ">ReadTheDocs account necessary\n",
    "\n",
    "#### Setup\n",
    "* Install sphinx `$ pip install Sphinx`\n",
    "* Run `$ sphinx-quickstart` to setup directory for documentation and create a default conf.py file\n",
    "    * The cofiguration file has to be changed for any further extensions or templates \n",
    "* Run `$ sphinx-apidoc -o <output dir of .rst> <dir of source code>` to generate .rst files from your source code\n",
    "* To create documentaion run `$ make html` Note that your working dir has to be ./docs\n",
    "\n",
    "Here are the [docs](https://www.sphinx-doc.org/en/1.5/tutorial.html)"
   ]
  },
  {
   "cell_type": "markdown",
   "metadata": {},
   "source": [
    "___\n",
    "## 5. Source Hosting\n",
    "For future development contribution\n",
    "- GitLab \n",
    "- GitHub"
   ]
  },
  {
   "cell_type": "markdown",
   "metadata": {},
   "source": [
    "___\n",
    "## 6. Tests\n",
    "### Tox\n",
    "- checks if your package installs correctly with different Python versions and interpreters\n",
    "- helps running your tests in each of the environments, configuring your test tool of choice\n",
    "\n",
    "[Tox Docs](https://tox.readthedocs.io/en/latest/)\n",
    "\n",
    "#### Setup\n",
    "* configure Tox by editing the *tox.ini* configuration file or run `$ tox-quickstart`. The Tox configuration file contains\n",
    "    * the command to run in order to execute tests i.e. pytest\n",
    "    * additional packages required before executing\n",
    "    * the Python versions to test against\n",
    "* run the tests by \n",
    "    * `$ tox`\n",
    "    * `$ tox -e py36` to run only a single evironment, like Python 3.6 in this case \n",
    "\n",
    "###### Example for tox.ini\n",
    "\n",
    "```ini\n",
    "[tox]\n",
    "envlist = py27, py36\n",
    "\n",
    "[testenv]\n",
    "deps = \n",
    "\n",
    "commands =\n",
    "    python -m unittest discover\n",
    "```\n",
    "    \n",
    "\n",
    "### Pytest\n",
    "* command line interface (CLI) to test your code locally testing framework for local tests of your code\n",
    "\n",
    "[Pytest Docs](https://docs.pytest.org/en/latest/)\n",
    "\n",
    "#### Setup\n",
    "* put source code of your tests into the test folder of the repo with the naming convention *test_name.py*\n",
    "* run `$ pytest` in a virtual environment from the terminal"
   ]
  },
  {
   "cell_type": "markdown",
   "metadata": {},
   "source": [
    "### Mock Objects\n",
    "- mock objects substitute and imitate real objects within the testing environment\n",
    "- versatile tool for improving the quality of tests\n",
    "- with mock objects you can control the code's behavior during tests\n",
    "- `unitest.mock` is included in the standard library in Python 3.3 and up\n",
    "\n",
    "[Mock docs](https://docs.python.org/3/library/unittest.mock.html#module-unittest.mock)\n",
    "| [PyCon Talk](https://www.youtube.com/watch?v=ww1UsGZV8fQ)"
   ]
  },
  {
   "cell_type": "markdown",
   "metadata": {},
   "source": [
    "*In this example we mock an integer. The procedure is the same for more complex objects. You can also the the patch function, also as decorator.*"
   ]
  },
  {
   "cell_type": "code",
   "execution_count": 1,
   "metadata": {
    "scrolled": true
   },
   "outputs": [
    {
     "name": "stdout",
     "output_type": "stream",
     "text": [
      "42\n"
     ]
    }
   ],
   "source": [
    "\"\"\"test_my_module.py\"\"\"\n",
    "from unittest import mock\n",
    "\n",
    "my_int = 42\n",
    "my_int_mock = mock.Mock(spec=int) \n",
    "my_int_mock.return_value = 42 #everytime my_int_mock is called it returns this value\n",
    "\n",
    "if isinstance(my_int_mock, int):\n",
    "    print(my_int_mock()) "
   ]
  },
  {
   "cell_type": "markdown",
   "metadata": {},
   "source": [
    "### Coverage\n",
    "- monitors the effectiveness of tests\n",
    "- shows which parts of your code are being exercised by tests, and which are not\n",
    "\n",
    "[Coverage Docs](https://coverage.readthedocs.io/en/v4.5.x/)\n",
    "\n",
    "#### Setup\n",
    "- Install coverage `$ pip install coverage`\n",
    "- Run your program with `$ coverage run mycode.py`\n",
    "- Use `$ coverage report -m` to show results\n",
    "- Alternatively you can use [pytest-cov](https://pytest-cov.readthedocs.io/en/latest/), a pytest plugin for measuring coverage\n",
    "    - then you can use `$ pytest --cov=myproj tests/` to run your test and show the coverage of these tests together\n",
    "\n",
    "\n",
    "- Coveralls is a tool to automize and publish your coverage stats online/in your repo\n",
    "\n",
    "[Coveralls docs](https://docs.coveralls.io/)"
   ]
  },
  {
   "cell_type": "markdown",
   "metadata": {},
   "source": [
    "___\n",
    "## 7. Continuous Integration\n",
    " \n",
    "\n",
    "### Gitlab CI\n",
    "- automating the execution of the tests\n",
    "- Integrated in GitLab\n",
    "- Open source\n",
    "- Optional integration of Docker and Kubernetes\n",
    "\n",
    "Since haiopy is hosted on GitLab this is the CI used for the project.\n",
    "\n",
    "[Docs](https://docs.gitlab.com/ee/ci/README.html)\n",
    "\n",
    "#### Setup\n",
    "\n",
    "* To configure the CI add a *.gitlab-ci.yml* file to the root of the repo\n",
    "    * there are templates available on GitLab\n",
    "* Configure a runner\n",
    "\n",
    "Here is the [Getting started guide](https://git.rwth-aachen.de/help/ci/quick_start/README)\n",
    "\n",
    "##### Example for .gitlab-ci.yml\n",
    "\n",
    "```yaml\n",
    "stages:\n",
    "    - build\n",
    "    - test\n",
    "        \n",
    "before_script:\n",
    "    - apt-get update\n",
    "    - pip3 install -r requirements_dev.txt\n",
    "\n",
    "build:\n",
    "    stage: build\n",
    "    script:\n",
    "    - python3 setup.py build_ext --inplace\n",
    "\n",
    "test:\n",
    "    stage: test\n",
    "    script:\n",
    "    - python3 setup.py build_ext --inplace\n",
    "    - tox\n",
    "    dependencies:\n",
    "    - build\n",
    "```\n",
    "\n",
    "### Alternatives\n",
    "#### Travis CI\n",
    "- only for GitHub\n",
    "\n",
    "#### Jenkins\n",
    "- Open source\n",
    "- plugin architecture\n",
    "- more complex"
   ]
  },
  {
   "cell_type": "markdown",
   "metadata": {},
   "source": [
    "___\n",
    "## 8. License\n",
    "Common open source license\n",
    "- MIT\n",
    "- BSD\n",
    "- ISB\n",
    "- Apache\n",
    "- GPL version 3\n",
    "\n",
    "A very nice interactive overview with pros and cons of the comming licences can be found here: https://choosealicense.com/\n",
    "\n",
    ">**NOTE**\n",
    ">- Institute for Automation of Complex Power Systems, EONERC uses GPL version 3\n",
    ">- VA uses the Apache Version\n",
    ">- Most packages from spatialaudio.net (Sasha Spors' Group) use MIT\n"
   ]
  },
  {
   "cell_type": "markdown",
   "metadata": {},
   "source": [
    "___\n",
    "## 9. Versioning\n",
    "\n",
    "Semantic version format example:\n",
    "\n",
    "    v.1.3.8\n",
    "    Major.Minor.Patch\n",
    "\n",
    "[PEP 440](https://www.python.org/dev/peps/pep-0440/) - Version Identification \n",
    "### Tools for automation\n",
    "- Bumpversion\n",
    "- Versioneer"
   ]
  },
  {
   "cell_type": "markdown",
   "metadata": {},
   "source": [
    "   "
   ]
  }
 ],
 "metadata": {
  "kernelspec": {
   "display_name": "Python 3",
   "language": "python",
   "name": "python3"
  },
  "language_info": {
   "codemirror_mode": {
    "name": "ipython",
    "version": 3
   },
   "file_extension": ".py",
   "mimetype": "text/x-python",
   "name": "python",
   "nbconvert_exporter": "python",
   "pygments_lexer": "ipython3",
   "version": "3.7.3"
  }
 },
 "nbformat": 4,
 "nbformat_minor": 2
}
