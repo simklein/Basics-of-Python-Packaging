{
 "cells": [
  {
   "cell_type": "markdown",
   "metadata": {},
   "source": [
    "# Basics of Matplotlib\n",
    "*[Matplotlib](https://matplotlib.org/3.1.1/index.html) is probably the most used Python package for quick visualizations and publication-quality figures. This notebook is not meant to cover all use cases of matplotlib since other people allready did this. It's meant to explain how matplotlib is used within the haiopy package.*\n",
    "____"
   ]
  },
  {
   "cell_type": "markdown",
   "metadata": {},
   "source": [
    "## 1. Anatomy of Matplotlib \n",
    "[A good tutorial](https://www.youtube.com/watch?v=6gdNUDs6QPc) to start with are the SciPy talks by Benjamin Root. The materials i.e. the jupyter notebooks for the tutorial are on [GitHub](https://github.com/matplotlib/AnatomyOfMatplotlib). [Another great tutorial](https://github.com/rougier/matplotlib-tutorial) which is not based on IPython is the one by Nicolas P. Rougier. Here you can learn about figures, subplots, axes and so on."
   ]
  },
  {
   "cell_type": "markdown",
   "metadata": {},
   "source": [
    "## 2. The `matplotlibrc` config file\n",
    "Use this file to customize the default configuration of matplotlib. Just edit the settings in the `matplotlibrc`\n",
    "file."
   ]
  },
  {
   "cell_type": "code",
   "execution_count": 1,
   "metadata": {},
   "outputs": [
    {
     "name": "stdout",
     "output_type": "stream",
     "text": [
      "C:\\Users\\sklein\\AppData\\Local\\Continuum\\anaconda3\\lib\\site-packages\\matplotlib\\mpl-data\\matplotlibrc\n"
     ]
    }
   ],
   "source": [
    "\"Finding your matplotlibrc file\"\n",
    "import matplotlib\n",
    "print(matplotlib.matplotlib_fname())"
   ]
  },
  {
   "cell_type": "markdown",
   "metadata": {},
   "source": [
    "### Navigation Keyboard Shortcuts\n",
    "The default keys can be overwritten in the `matplotlibrc` file\n",
    "    #keymap.fullscreen : f, ctrl+f       ## toggling\n",
    "    #keymap.home : h, r, home            ## home or reset mnemonic\n",
    "    #keymap.back : left, c, backspace, MouseButton.BACK  ## forward / backward keys\n",
    "    #keymap.forward : right, v, MouseButton.FORWARD      ## for quick navigation\n",
    "    #keymap.pan : p                      ## pan mnemonic\n",
    "    #keymap.zoom : o                     ## zoom mnemonic\n",
    "    #keymap.save : s, ctrl+s             ## saving current figure\n",
    "    #keymap.help : f1                    ## display help about active tools\n",
    "    #keymap.quit : ctrl+w, cmd+w, q      ## close the current figure\n",
    "    #keymap.quit_all : W, cmd+W, Q       ## close all figures\n",
    "    #keymap.grid : g                     ## switching on/off major grids in current axes\n",
    "    #keymap.grid_minor : G               ## switching on/off minor grids in current axes\n",
    "    #keymap.yscale : l                   ## toggle scaling of y-axes ('log'/'linear')\n",
    "    #keymap.xscale : k, L                ## toggle scaling of x-axes ('log'/'linear')\n",
    "    #keymap.all_axes : a                 ## enable all axes\n",
    "    #keymap.copy : ctrl+c, cmd+c         ## Copy figure to clipboard"
   ]
  },
  {
   "cell_type": "markdown",
   "metadata": {},
   "source": [
    "## 3. Backend\n",
    "Matplotlib supports different outputs for several different use cases. There are two types of backends: interactive user interface backends (pygtk, wxpython, tkinter, qt4, macosx) and non-interactive hardcopy backends to make image files (PNG, SVG, PDF). To configure your backend change the backend parameter in your `matplotlibrc` file. You can also use the IPython [magic](https://ipython.readthedocs.io/en/stable/interactive/plotting.html) to change your current backend."
   ]
  },
  {
   "cell_type": "code",
   "execution_count": 7,
   "metadata": {},
   "outputs": [],
   "source": [
    "%matplotlib qt\n",
    "# %matplotlib inline"
   ]
  },
  {
   "cell_type": "markdown",
   "metadata": {},
   "source": [
    "## 4. Event handling\n",
    "You can [customize events](https://matplotlib.org/3.1.1/users/event_handling.html) that are triggered by the interaction with the GUI. To connect events to a function use [`mpl_connect`](https://matplotlib.org/api/backend_bases_api.html#matplotlib.backend_bases.FigureCanvasBase.mpl_connect). An [example for keypress events](https://matplotlib.org/3.1.1/gallery/event_handling/keypress_demo.html#sphx-glr-gallery-event-handling-keypress-demo-py) can be found in the Matplotlib gallery. **Note that the event handling works with a qt backend only!**\n",
    "\n",
    "*In this example an event is triggered when the key 'c' is pressed* "
   ]
  },
  {
   "cell_type": "code",
   "execution_count": 17,
   "metadata": {
    "scrolled": true
   },
   "outputs": [
    {
     "name": "stderr",
     "output_type": "stream",
     "text": [
      "C:\\Users\\sklein\\AppData\\Local\\Continuum\\anaconda3\\lib\\site-packages\\matplotlib\\backend_managers.py:58: UserWarning: Treat the new Tool classes introduced in v1.5 as experimental for now, the API will likely change in version 2.1 and perhaps the rcParam as well\n",
      "  'experimental for now, the API will likely change in ' +\n",
      "C:\\Users\\sklein\\AppData\\Local\\Continuum\\anaconda3\\lib\\site-packages\\matplotlib\\backend_tools.py:79: UserWarning: Treat the new Tool classes introduced in v1.5 as experimental for now, the API will likely change in version 2.1, and some tools might change name\n",
      "  'experimental for now, the API will likely change in ' +\n"
     ]
    },
    {
     "name": "stdout",
     "output_type": "stream",
     "text": [
      "event triggered\n",
      "event triggered\n"
     ]
    }
   ],
   "source": [
    "import matplotlib.pyplot as plt\n",
    "import numpy as np\n",
    "\n",
    "\"Prepare Data\"\n",
    "X = np.linspace(-np.pi, np.pi, 256, endpoint=True)\n",
    "C, S = np.cos(X), np.sin(X)\n",
    "\n",
    "\"Define Event\"\n",
    "def on_c_click(event):\n",
    "    if event.key == 'c':\n",
    "        print(\"event triggered\")\n",
    "\n",
    "fig, ax = plt.subplots(1, 1)\n",
    "ax.plot(X, C)\n",
    "ax.plot(X, S)\n",
    "fig.canvas.mpl_connect('key_press_event', on_c_click)\n",
    "\n",
    "plt.show()"
   ]
  },
  {
   "cell_type": "markdown",
   "metadata": {},
   "source": [
    "## 5. Customizing UI Tools with ToolManager\n",
    "Matplotlib includes a [Tool Manager](https://matplotlib.org/3.1.1/api/backend_tools_api.html) which can be used to add a variety of tools to your UI. This is the method that is currently used for the haiopy package to implement custom interactivity for the plots. It's still considered experimental (see warning), but offers more options than simple event handling. **Customization with the toolmanager class also works with qt backends only!**\n",
    "\n",
    "> The tool manager still triggers a warning refering to matplotlib v1.5/2.1 when used with v3.1.1.\n",
    "> A current [Issue](https://github.com/matplotlib/matplotlib/issues/15284) about this warning\n",
    "\n",
    "There are two classes to define custom tools for your UI.\n",
    "* `ToolBase` for basic stateless tools\n",
    "* `ToolToggleBase` for toggleable tools with two states\n",
    "* The tool is then simply added to a figure with the `add_tool` function\n",
    "\n",
    "Another example can be found [here](https://matplotlib.org/3.1.1/gallery/user_interfaces/toolmanager_sgskip.html#sphx-glr-gallery-user-interfaces-toolmanager-sgskip-py).\n",
    "\n",
    "*In this example a simple Tool for hiding/showing all lines of the plot based on the ToolToggleBase class is added.*"
   ]
  },
  {
   "cell_type": "code",
   "execution_count": 19,
   "metadata": {},
   "outputs": [
    {
     "name": "stderr",
     "output_type": "stream",
     "text": [
      "C:\\Users\\sklein\\AppData\\Local\\Continuum\\anaconda3\\lib\\site-packages\\matplotlib\\backend_managers.py:263: UserWarning: A \"Tool class\" with the same name already exists, not added\n",
      "  warnings.warn('A \"Tool class\" with the same name already exists, '\n"
     ]
    },
    {
     "name": "stdout",
     "output_type": "stream",
     "text": [
      "event triggered\n",
      "event triggered\n"
     ]
    }
   ],
   "source": [
    "plt.rcParams['toolbar'] = 'toolmanager'\n",
    "from matplotlib.backend_tools import ToolBase, ToolToggleBase\n",
    "\n",
    "class HideTool(ToolToggleBase):\n",
    "    '''Show all lines'''\n",
    "    default_keymap = 'A'\n",
    "    description = 'Show lines'\n",
    "    default_toggled = True\n",
    "\n",
    "    def __init__(self, *args, **kwargs):\n",
    "        super().__init__(*args, **kwargs)\n",
    "\n",
    "    def enable(self, *args):\n",
    "        self.set_lines_visibility(True)\n",
    "\n",
    "    def disable(self, *args):\n",
    "        self.set_lines_visibility(False)\n",
    "\n",
    "    def set_lines_visibility(self, state):\n",
    "        for ax in self.figure.get_axes():\n",
    "            for line in ax.get_lines():\n",
    "                    line.set_visible(state)\n",
    "        self.figure.canvas.draw()\n",
    "        \n",
    "fig.canvas.manager.toolmanager.add_tool('Show', HideTool) # raises AttributeError when backend is not qt\n",
    "fig.show()"
   ]
  },
  {
   "cell_type": "code",
   "execution_count": null,
   "metadata": {},
   "outputs": [],
   "source": []
  }
 ],
 "metadata": {
  "kernelspec": {
   "display_name": "Python 3",
   "language": "python",
   "name": "python3"
  },
  "language_info": {
   "codemirror_mode": {
    "name": "ipython",
    "version": 3
   },
   "file_extension": ".py",
   "mimetype": "text/x-python",
   "name": "python",
   "nbconvert_exporter": "python",
   "pygments_lexer": "ipython3",
   "version": "3.7.3"
  }
 },
 "nbformat": 4,
 "nbformat_minor": 2
}
