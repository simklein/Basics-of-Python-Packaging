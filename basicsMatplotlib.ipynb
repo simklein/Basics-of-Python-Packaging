{
 "cells": [
  {
   "cell_type": "markdown",
   "metadata": {},
   "source": [
    "# Basics of Matplotlib\n",
    "*[Matplotlib](https://matplotlib.org/3.1.1/index.html) is probably the most used Python package for quick visualizations and publication-quality figures. This notebook is not meant to cover all use cases of matplotlib since other people allready did this. It's meant to explain how matplotlib is used within the haiopy package.*\n",
    "____"
   ]
  },
  {
   "cell_type": "markdown",
   "metadata": {},
   "source": [
    "## 1. Anatomy of Matplotlib \n",
    "[A good tutorial](https://www.youtube.com/watch?v=6gdNUDs6QPc) to start with are the SciPy talks by Benjamin Root. The materials i.e. the jupyter notebooks for the tutorial are on [GitHub](https://github.com/matplotlib/AnatomyOfMatplotlib). [Another great tutorial](https://github.com/rougier/matplotlib-tutorial) which is not based on IPython is the one by Nicolas P. Rougier. Here you can learn about figures, subplots, axes and so on."
   ]
  },
  {
   "cell_type": "markdown",
   "metadata": {},
   "source": [
    "## 2. The `matplotlibrc` config file\n",
    "Use this file to customize the default configuration of matplotlib. Just edit the settings in the `matplotlibrc`\n",
    "file."
   ]
  },
  {
   "cell_type": "code",
   "execution_count": 2,
   "metadata": {},
   "outputs": [
    {
     "name": "stdout",
     "output_type": "stream",
     "text": [
      "C:\\Users\\sklein\\AppData\\Local\\Continuum\\anaconda3\\lib\\site-packages\\matplotlib\\mpl-data\\matplotlibrc\n"
     ]
    }
   ],
   "source": [
    "\"Finding your matplotlibrc file\"\n",
    "import matplotlib\n",
    "print(matplotlib.matplotlib_fname())"
   ]
  },
  {
   "cell_type": "markdown",
   "metadata": {},
   "source": [
    "### Navigation Keyboard Shortcuts\n",
    "The default keys can be overwritten in the `matplotlibrc` file\n",
    "    #keymap.fullscreen : f, ctrl+f       ## toggling\n",
    "    #keymap.home : h, r, home            ## home or reset mnemonic\n",
    "    #keymap.back : left, c, backspace, MouseButton.BACK  ## forward / backward keys\n",
    "    #keymap.forward : right, v, MouseButton.FORWARD      ## for quick navigation\n",
    "    #keymap.pan : p                      ## pan mnemonic\n",
    "    #keymap.zoom : o                     ## zoom mnemonic\n",
    "    #keymap.save : s, ctrl+s             ## saving current figure\n",
    "    #keymap.help : f1                    ## display help about active tools\n",
    "    #keymap.quit : ctrl+w, cmd+w, q      ## close the current figure\n",
    "    #keymap.quit_all : W, cmd+W, Q       ## close all figures\n",
    "    #keymap.grid : g                     ## switching on/off major grids in current axes\n",
    "    #keymap.grid_minor : G               ## switching on/off minor grids in current axes\n",
    "    #keymap.yscale : l                   ## toggle scaling of y-axes ('log'/'linear')\n",
    "    #keymap.xscale : k, L                ## toggle scaling of x-axes ('log'/'linear')\n",
    "    #keymap.all_axes : a                 ## enable all axes\n",
    "    #keymap.copy : ctrl+c, cmd+c         ## Copy figure to clipboard"
   ]
  },
  {
   "cell_type": "markdown",
   "metadata": {},
   "source": [
    "## 3. Backend\n",
    "Matplotlib supports different outputs for several different use cases. There are two types of backends: interactive user interface backends (pygtk, wxpython, tkinter, qt4, macosx) and non-interactive hardcopy backends to make image files (PNG, SVG, PDF). To configure your backend change the backend parameter in your `matplotlibrc` file."
   ]
  },
  {
   "cell_type": "markdown",
   "metadata": {},
   "source": [
    "## 4. Event handling\n",
    "You can [customize events](https://matplotlib.org/3.1.1/users/event_handling.html) that are triggered by the interaction with the GUI. To connect events to a function use [`mpl_connect`](https://matplotlib.org/api/backend_bases_api.html#matplotlib.backend_bases.FigureCanvasBase.mpl_connect). An [example for keypress events](https://matplotlib.org/3.1.1/gallery/event_handling/keypress_demo.html#sphx-glr-gallery-event-handling-keypress-demo-py) can be found in the Matplotlib gallery.\n",
    "Acoording to the IPython [documentation](https://ipython.readthedocs.io/en/stable/interactive/plotting.html) you can switch between interactive and inline plots by using the following command. "
   ]
  },
  {
   "cell_type": "code",
   "execution_count": 6,
   "metadata": {},
   "outputs": [],
   "source": [
    "%matplotlib qt\n",
    "# %matplotlib inline"
   ]
  },
  {
   "cell_type": "code",
   "execution_count": 9,
   "metadata": {
    "scrolled": true
   },
   "outputs": [],
   "source": [
    "import matplotlib.pyplot as plt\n",
    "import numpy as np\n",
    "\n",
    "\"Prepare Data\"\n",
    "X = np.linspace(-np.pi, np.pi, 256, endpoint=True)\n",
    "C, S = np.cos(X), np.sin(X)\n",
    "\n",
    "\"Define Event\"\n",
    "def on_c_click(event):\n",
    "    if event.key == 'c':\n",
    "        print(\"event triggered\")\n",
    "\n",
    "fig, ax = plt.subplots(1, 1)\n",
    "ax.plot(X, C)\n",
    "ax.plot(X, S)\n",
    "fig.canvas.mpl_connect('key_press_event', on_c_click)\n",
    "\n",
    "plt.show()"
   ]
  },
  {
   "cell_type": "markdown",
   "metadata": {},
   "source": [
    "## 5. Customizing UI Tools\n",
    "Matplotlib includes a [Tool Manager](https://matplotlib.org/3.1.1/gallery/user_interfaces/toolmanager_sgskip.html#sphx-glr-gallery-user-interfaces-toolmanager-sgskip-py) which can be used to add a variety of tools to your UI. \n",
    "\n",
    "> The tool manager still triggers a warning refering to matplotlib v1.5/2.1 when used with v3.1.1\n"
   ]
  },
  {
   "cell_type": "code",
   "execution_count": null,
   "metadata": {},
   "outputs": [],
   "source": []
  }
 ],
 "metadata": {
  "kernelspec": {
   "display_name": "Python 3",
   "language": "python",
   "name": "python3"
  },
  "language_info": {
   "codemirror_mode": {
    "name": "ipython",
    "version": 3
   },
   "file_extension": ".py",
   "mimetype": "text/x-python",
   "name": "python",
   "nbconvert_exporter": "python",
   "pygments_lexer": "ipython3",
   "version": "3.7.3"
  }
 },
 "nbformat": 4,
 "nbformat_minor": 2
}
